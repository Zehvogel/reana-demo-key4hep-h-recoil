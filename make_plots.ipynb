{
 "cells": [
  {
   "cell_type": "code",
   "execution_count": null,
   "metadata": {},
   "outputs": [],
   "source": [
    "import ROOT"
   ]
  },
  {
   "cell_type": "code",
   "execution_count": null,
   "metadata": {},
   "outputs": [],
   "source": [
    "file = ROOT.TFile(\"higgs_recoil_hists.root\")"
   ]
  },
  {
   "cell_type": "code",
   "execution_count": null,
   "metadata": {},
   "outputs": [],
   "source": [
    "h_z_mass = file.Get(\"z_mass\")\n",
    "h_recoil_mass = file.Get(\"recoil_mass\")"
   ]
  },
  {
   "cell_type": "code",
   "execution_count": null,
   "metadata": {},
   "outputs": [],
   "source": [
    "c_z_mass = ROOT.TCanvas()\n",
    "h_z_mass.Draw()\n",
    "c_z_mass.Draw()\n",
    "c_z_mass.SaveAs(\"z_mass.pdf\")\n",
    "\n",
    "c_recoil_mass = ROOT.TCanvas()\n",
    "h_recoil_mass.Draw(\"\")\n",
    "c_recoil_mass.Draw()\n",
    "c_recoil_mass.SaveAs(\"recoil_mass.pdf\")"
   ]
  },
  {
   "cell_type": "code",
   "execution_count": null,
   "metadata": {},
   "outputs": [],
   "source": []
  }
 ],
 "metadata": {
  "kernelspec": {
   "display_name": "Python 3",
   "language": "python",
   "name": "python3"
  },
  "language_info": {
   "codemirror_mode": {
    "name": "ipython",
    "version": 3
   },
   "file_extension": ".py",
   "mimetype": "text/x-python",
   "name": "python",
   "nbconvert_exporter": "python",
   "pygments_lexer": "ipython3",
   "version": "3.10.13"
  }
 },
 "nbformat": 4,
 "nbformat_minor": 2
}
